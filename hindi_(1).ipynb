{
  "nbformat": 4,
  "nbformat_minor": 0,
  "metadata": {
    "colab": {
      "name": "hindi (1).ipynb",
      "provenance": [],
      "collapsed_sections": []
    },
    "kernelspec": {
      "name": "python3",
      "display_name": "Python 3"
    },
    "language_info": {
      "name": "python"
    }
  },
  "cells": [
    {
      "cell_type": "code",
      "metadata": {
        "id": "dUMxvXrRrm3n",
        "colab": {
          "base_uri": "https://localhost:8080/"
        },
        "outputId": "62ce1b4a-5f88-4568-b9f0-7b6ee7e8e81f"
      },
      "source": [
        "!pip3 install pandas_ods_reader\n",
        "from pandas_ods_reader import read_ods"
      ],
      "execution_count": null,
      "outputs": [
        {
          "output_type": "stream",
          "name": "stdout",
          "text": [
            "Requirement already satisfied: pandas_ods_reader in /usr/local/lib/python3.7/dist-packages (0.1.4)\n",
            "Requirement already satisfied: lxml<5.0.0,>=4.6.3 in /usr/local/lib/python3.7/dist-packages (from pandas_ods_reader) (4.6.4)\n",
            "Requirement already satisfied: pandas<2.0.0,>=1.0.0 in /usr/local/lib/python3.7/dist-packages (from pandas_ods_reader) (1.1.5)\n",
            "Requirement already satisfied: importlib_metadata<5.0.0,>=4.8.1 in /usr/local/lib/python3.7/dist-packages (from pandas_ods_reader) (4.8.2)\n",
            "Requirement already satisfied: ezodf<0.4.0,>=0.3.2 in /usr/local/lib/python3.7/dist-packages (from pandas_ods_reader) (0.3.2)\n",
            "Requirement already satisfied: zipp>=0.5 in /usr/local/lib/python3.7/dist-packages (from importlib_metadata<5.0.0,>=4.8.1->pandas_ods_reader) (3.6.0)\n",
            "Requirement already satisfied: typing-extensions>=3.6.4 in /usr/local/lib/python3.7/dist-packages (from importlib_metadata<5.0.0,>=4.8.1->pandas_ods_reader) (3.10.0.2)\n",
            "Requirement already satisfied: numpy>=1.15.4 in /usr/local/lib/python3.7/dist-packages (from pandas<2.0.0,>=1.0.0->pandas_ods_reader) (1.19.5)\n",
            "Requirement already satisfied: pytz>=2017.2 in /usr/local/lib/python3.7/dist-packages (from pandas<2.0.0,>=1.0.0->pandas_ods_reader) (2018.9)\n",
            "Requirement already satisfied: python-dateutil>=2.7.3 in /usr/local/lib/python3.7/dist-packages (from pandas<2.0.0,>=1.0.0->pandas_ods_reader) (2.8.2)\n",
            "Requirement already satisfied: six>=1.5 in /usr/local/lib/python3.7/dist-packages (from python-dateutil>=2.7.3->pandas<2.0.0,>=1.0.0->pandas_ods_reader) (1.15.0)\n"
          ]
        }
      ]
    },
    {
      "cell_type": "code",
      "metadata": {
        "colab": {
          "base_uri": "https://localhost:8080/",
          "height": 206
        },
        "id": "nLwBzov_stqL",
        "outputId": "82ff6a45-d0a6-4371-e1dd-1e4f7e3de175"
      },
      "source": [
        "data = read_ods(\"hi_3500.ods\",1, headers=False)\n",
        "data.head()"
      ],
      "execution_count": null,
      "outputs": [
        {
          "output_type": "execute_result",
          "data": {
            "text/html": [
              "<div>\n",
              "<style scoped>\n",
              "    .dataframe tbody tr th:only-of-type {\n",
              "        vertical-align: middle;\n",
              "    }\n",
              "\n",
              "    .dataframe tbody tr th {\n",
              "        vertical-align: top;\n",
              "    }\n",
              "\n",
              "    .dataframe thead th {\n",
              "        text-align: right;\n",
              "    }\n",
              "</style>\n",
              "<table border=\"1\" class=\"dataframe\">\n",
              "  <thead>\n",
              "    <tr style=\"text-align: right;\">\n",
              "      <th></th>\n",
              "      <th>column.0</th>\n",
              "      <th>column.1</th>\n",
              "    </tr>\n",
              "  </thead>\n",
              "  <tbody>\n",
              "    <tr>\n",
              "      <th>0</th>\n",
              "      <td>लोग वतन तक खा जाते हैं इसका इसे यकीन नहींमान ज...</td>\n",
              "      <td>negative</td>\n",
              "    </tr>\n",
              "    <tr>\n",
              "      <th>1</th>\n",
              "      <td>गुमनाम है वतन पर मिटने वाले लोग आतन्कवादियों स...</td>\n",
              "      <td>negative</td>\n",
              "    </tr>\n",
              "    <tr>\n",
              "      <th>2</th>\n",
              "      <td>ज़ंजीर बदली जा रही थी मैं समझा था रिहाई हो गयी है</td>\n",
              "      <td>negative</td>\n",
              "    </tr>\n",
              "    <tr>\n",
              "      <th>3</th>\n",
              "      <td>यूपी में बड़े स्तर पर दंगे करवा सकती है बीजेपी...</td>\n",
              "      <td>negative</td>\n",
              "    </tr>\n",
              "    <tr>\n",
              "      <th>4</th>\n",
              "      <td>अंग्रेजी नहीं आती है इसलिए हिन्दी ट्विट ज्यादा...</td>\n",
              "      <td>negative</td>\n",
              "    </tr>\n",
              "  </tbody>\n",
              "</table>\n",
              "</div>"
            ],
            "text/plain": [
              "                                            column.0  column.1\n",
              "0  लोग वतन तक खा जाते हैं इसका इसे यकीन नहींमान ज...  negative\n",
              "1  गुमनाम है वतन पर मिटने वाले लोग आतन्कवादियों स...  negative\n",
              "2  ज़ंजीर बदली जा रही थी मैं समझा था रिहाई हो गयी है  negative\n",
              "3  यूपी में बड़े स्तर पर दंगे करवा सकती है बीजेपी...  negative\n",
              "4  अंग्रेजी नहीं आती है इसलिए हिन्दी ट्विट ज्यादा...  negative"
            ]
          },
          "metadata": {},
          "execution_count": 33
        }
      ]
    },
    {
      "cell_type": "code",
      "metadata": {
        "colab": {
          "base_uri": "https://localhost:8080/",
          "height": 206
        },
        "id": "0WiNZKznszDZ",
        "outputId": "33eb13f4-a3c5-4e3f-e9ef-8dee9554fcf7"
      },
      "source": [
        "data.columns = ['text','labels']\n",
        "data.head()"
      ],
      "execution_count": null,
      "outputs": [
        {
          "output_type": "execute_result",
          "data": {
            "text/html": [
              "<div>\n",
              "<style scoped>\n",
              "    .dataframe tbody tr th:only-of-type {\n",
              "        vertical-align: middle;\n",
              "    }\n",
              "\n",
              "    .dataframe tbody tr th {\n",
              "        vertical-align: top;\n",
              "    }\n",
              "\n",
              "    .dataframe thead th {\n",
              "        text-align: right;\n",
              "    }\n",
              "</style>\n",
              "<table border=\"1\" class=\"dataframe\">\n",
              "  <thead>\n",
              "    <tr style=\"text-align: right;\">\n",
              "      <th></th>\n",
              "      <th>text</th>\n",
              "      <th>labels</th>\n",
              "    </tr>\n",
              "  </thead>\n",
              "  <tbody>\n",
              "    <tr>\n",
              "      <th>0</th>\n",
              "      <td>लोग वतन तक खा जाते हैं इसका इसे यकीन नहींमान ज...</td>\n",
              "      <td>negative</td>\n",
              "    </tr>\n",
              "    <tr>\n",
              "      <th>1</th>\n",
              "      <td>गुमनाम है वतन पर मिटने वाले लोग आतन्कवादियों स...</td>\n",
              "      <td>negative</td>\n",
              "    </tr>\n",
              "    <tr>\n",
              "      <th>2</th>\n",
              "      <td>ज़ंजीर बदली जा रही थी मैं समझा था रिहाई हो गयी है</td>\n",
              "      <td>negative</td>\n",
              "    </tr>\n",
              "    <tr>\n",
              "      <th>3</th>\n",
              "      <td>यूपी में बड़े स्तर पर दंगे करवा सकती है बीजेपी...</td>\n",
              "      <td>negative</td>\n",
              "    </tr>\n",
              "    <tr>\n",
              "      <th>4</th>\n",
              "      <td>अंग्रेजी नहीं आती है इसलिए हिन्दी ट्विट ज्यादा...</td>\n",
              "      <td>negative</td>\n",
              "    </tr>\n",
              "  </tbody>\n",
              "</table>\n",
              "</div>"
            ],
            "text/plain": [
              "                                                text    labels\n",
              "0  लोग वतन तक खा जाते हैं इसका इसे यकीन नहींमान ज...  negative\n",
              "1  गुमनाम है वतन पर मिटने वाले लोग आतन्कवादियों स...  negative\n",
              "2  ज़ंजीर बदली जा रही थी मैं समझा था रिहाई हो गयी है  negative\n",
              "3  यूपी में बड़े स्तर पर दंगे करवा सकती है बीजेपी...  negative\n",
              "4  अंग्रेजी नहीं आती है इसलिए हिन्दी ट्विट ज्यादा...  negative"
            ]
          },
          "metadata": {},
          "execution_count": 34
        }
      ]
    },
    {
      "cell_type": "code",
      "metadata": {
        "colab": {
          "base_uri": "https://localhost:8080/"
        },
        "id": "Q3RIFTVZu5cd",
        "outputId": "b98506a3-da67-4b2d-d14f-fb5a0546224d"
      },
      "source": [
        "data.describe(), data.labels.unique()"
      ],
      "execution_count": null,
      "outputs": [
        {
          "output_type": "execute_result",
          "data": {
            "text/plain": [
              "(                                                     text    labels\n",
              " count                                                9077      9077\n",
              " unique                                               7832         3\n",
              " top     ससुर ने किया बलात्कार ISLAMIC LAW-NOW WIFE IS ...  positive\n",
              " freq                                                    8      3254,\n",
              " array(['negative', 'positive', 'neutral'], dtype=object))"
            ]
          },
          "metadata": {},
          "execution_count": 35
        }
      ]
    },
    {
      "cell_type": "code",
      "metadata": {
        "id": "_BUfCQxqtvq-"
      },
      "source": [
        "def convert(label):\n",
        "  if label=='negative':\n",
        "    return -1\n",
        "  if label=='positive':\n",
        "    return 1\n",
        "  else:\n",
        "    return 0"
      ],
      "execution_count": null,
      "outputs": []
    },
    {
      "cell_type": "code",
      "metadata": {
        "id": "8cCpF9GXt5l-"
      },
      "source": [
        "labels_numerical = [convert(t) for t in data.labels]"
      ],
      "execution_count": null,
      "outputs": []
    },
    {
      "cell_type": "code",
      "metadata": {
        "colab": {
          "base_uri": "https://localhost:8080/"
        },
        "id": "zXEH2qg0uFM7",
        "outputId": "89876d6e-e2b9-4cd0-a665-9023e8570281"
      },
      "source": [
        "labels_numerical[:4]"
      ],
      "execution_count": null,
      "outputs": [
        {
          "output_type": "execute_result",
          "data": {
            "text/plain": [
              "[-1, -1, -1, -1]"
            ]
          },
          "metadata": {},
          "execution_count": 39
        }
      ]
    },
    {
      "cell_type": "code",
      "metadata": {
        "id": "A4vCOceeteQe"
      },
      "source": [
        "def preprocess(text):\n",
        "  text = text.split()\n",
        "  text = [t for t in text if not t.isalpha()]\n",
        "  return \" \".join(text)"
      ],
      "execution_count": null,
      "outputs": []
    },
    {
      "cell_type": "code",
      "metadata": {
        "id": "6tBjimnyuqtm"
      },
      "source": [
        "text = [preprocess(t) for t in data.text]"
      ],
      "execution_count": null,
      "outputs": []
    },
    {
      "cell_type": "code",
      "metadata": {
        "colab": {
          "base_uri": "https://localhost:8080/"
        },
        "id": "oo8GW-DPuLTN",
        "outputId": "1e9dea2a-6835-4d13-eb16-e006f64c0d68"
      },
      "source": [
        "text[:4]"
      ],
      "execution_count": null,
      "outputs": [
        {
          "output_type": "execute_result",
          "data": {
            "text/plain": [
              "['लोग खा जाते हैं इसका इसे यकीन नहींमान जाएगा तू ले जाकर दिल्ली इसे दिखा ला दोस्त',\n",
              " 'गुमनाम है मिटने वाले लोग आतन्कवादियों से मिलकर मशहूर हो गये',\n",
              " 'ज़ंजीर बदली जा रही थी मैं समझा था रिहाई हो गयी है',\n",
              " 'यूपी में बड़े स्तर दंगे करवा सकती है बीजेपी: मुलायम सिंह यादव -']"
            ]
          },
          "metadata": {},
          "execution_count": 42
        }
      ]
    },
    {
      "cell_type": "code",
      "metadata": {
        "id": "z4Ylmh0PXuri"
      },
      "source": [
        ""
      ],
      "execution_count": null,
      "outputs": []
    },
    {
      "cell_type": "code",
      "metadata": {
        "colab": {
          "base_uri": "https://localhost:8080/"
        },
        "id": "4aRujctzuLUq",
        "outputId": "7a64dad4-7082-498c-f660-90d905535ed8"
      },
      "source": [
        "from sklearn.model_selection import train_test_split,cross_val_score\n",
        "from sklearn.feature_extraction.text import CountVectorizer,TfidfVectorizer\n",
        "\n",
        "xtrain,xtest,ytrain,ytest = train_test_split(text,labels_numerical,test_size = 0.3,stratify = labels_numerical)\n",
        "len(xtrain),len(xtest)"
      ],
      "execution_count": null,
      "outputs": [
        {
          "output_type": "execute_result",
          "data": {
            "text/plain": [
              "(6353, 2724)"
            ]
          },
          "metadata": {},
          "execution_count": 43
        }
      ]
    },
    {
      "cell_type": "code",
      "metadata": {
        "id": "lmrIBrE1uLak"
      },
      "source": [
        "'''cv = CountVectorizer().fit(xtrain+xtest)\n",
        "transformed_xtrain = cv.fit_transform(xtrain)\n",
        "transformed_xtest = cv.transform(xtest)'''\n",
        "tfidf = TfidfVectorizer().fit(xtrain+xtest)\n",
        "transformed_xtrain = tfidf.fit_transform(xtrain)\n",
        "transformed_xtest = tfidf.transform(xtest)"
      ],
      "execution_count": null,
      "outputs": []
    },
    {
      "cell_type": "code",
      "metadata": {
        "id": "OnwTpnfWwjHs",
        "colab": {
          "base_uri": "https://localhost:8080/"
        },
        "outputId": "c904faa7-472c-4c5b-8cf7-1f97c141f46b"
      },
      "source": [
        "from sklearn.linear_model import LogisticRegression\n",
        "lr = LogisticRegression().fit(transformed_xtrain,ytrain)\n",
        "from sklearn.ensemble import RandomForestClassifier,GradientBoostingClassifier\n",
        "rfc = RandomForestClassifier().fit(transformed_xtrain,ytrain)\n",
        "gbc = GradientBoostingClassifier().fit(transformed_xtrain,ytrain)"
      ],
      "execution_count": null,
      "outputs": [
        {
          "output_type": "stream",
          "name": "stderr",
          "text": [
            "/usr/local/lib/python3.7/dist-packages/sklearn/linear_model/_logistic.py:818: ConvergenceWarning: lbfgs failed to converge (status=1):\n",
            "STOP: TOTAL NO. of ITERATIONS REACHED LIMIT.\n",
            "\n",
            "Increase the number of iterations (max_iter) or scale the data as shown in:\n",
            "    https://scikit-learn.org/stable/modules/preprocessing.html\n",
            "Please also refer to the documentation for alternative solver options:\n",
            "    https://scikit-learn.org/stable/modules/linear_model.html#logistic-regression\n",
            "  extra_warning_msg=_LOGISTIC_SOLVER_CONVERGENCE_MSG,\n"
          ]
        }
      ]
    },
    {
      "cell_type": "code",
      "metadata": {
        "id": "ahWuzubHw2Zj"
      },
      "source": [
        "from sklearn.metrics import classification_report,accuracy_score\n",
        "lr_preds = lr.predict(transformed_xtest)\n",
        "rfc_preds = rfc.predict(transformed_xtest)\n",
        "gbc_preds = gbc.predict(transformed_xtest)\n",
        "#print(classification_report(lr_preds,ytest))\n",
        "#print(classification_report(rfc_preds,ytest))\n",
        "#print(classification_report(gbc_preds,ytest))"
      ],
      "execution_count": null,
      "outputs": []
    },
    {
      "cell_type": "code",
      "source": [
        "import statistics\n",
        "res = []\n",
        "exceptions = 0\n",
        "for i in range(len(lr_preds)):\n",
        "  try:\n",
        "    res.append(statistics.mode([lr_preds[i],rfc_preds[i],gbc_preds[i]]))\n",
        "  except:\n",
        "    exceptions+=1\n",
        "    res.append(rfc_preds[i])"
      ],
      "metadata": {
        "id": "HAUX3WS0WlCm"
      },
      "execution_count": null,
      "outputs": []
    },
    {
      "cell_type": "code",
      "source": [
        "import numpy as np\n",
        "print(classification_report(np.array(res),ytest)),print(classification_report(rfc_preds,ytest))"
      ],
      "metadata": {
        "colab": {
          "base_uri": "https://localhost:8080/"
        },
        "id": "NfuSinTDZjPk",
        "outputId": "7f50c627-8bea-482b-f48e-2161e6e09dd3"
      },
      "execution_count": null,
      "outputs": [
        {
          "output_type": "stream",
          "name": "stdout",
          "text": [
            "              precision    recall  f1-score   support\n",
            "\n",
            "          -1       0.70      0.74      0.72       900\n",
            "           0       0.90      0.84      0.87       851\n",
            "           1       0.70      0.71      0.71       973\n",
            "\n",
            "    accuracy                           0.76      2724\n",
            "   macro avg       0.77      0.76      0.76      2724\n",
            "weighted avg       0.76      0.76      0.76      2724\n",
            "\n",
            "              precision    recall  f1-score   support\n",
            "\n",
            "          -1       0.74      0.73      0.74       967\n",
            "           0       0.90      0.85      0.87       840\n",
            "           1       0.69      0.73      0.71       917\n",
            "\n",
            "    accuracy                           0.77      2724\n",
            "   macro avg       0.78      0.77      0.77      2724\n",
            "weighted avg       0.77      0.77      0.77      2724\n",
            "\n"
          ]
        },
        {
          "output_type": "execute_result",
          "data": {
            "text/plain": [
              "(None, None)"
            ]
          },
          "metadata": {},
          "execution_count": 48
        }
      ]
    },
    {
      "cell_type": "code",
      "metadata": {
        "id": "lBHfLwxexXje"
      },
      "source": [
        "def ensemble(text):\n",
        "  text = tfidf.transform(text)\n",
        "  try:\n",
        "    result = statistics.mode([lr.predict(text),rfc.predict(text),gbc.predict(text)])\n",
        "  except:\n",
        "    result = rfc.predict(text)\n",
        "  if result==0:\n",
        "    return \"neutral\"\n",
        "  if result==1:\n",
        "    return \"positive\"\n",
        "  return \"negative\""
      ],
      "execution_count": null,
      "outputs": []
    },
    {
      "cell_type": "code",
      "metadata": {
        "id": "rwz0u4Le0Xie",
        "colab": {
          "base_uri": "https://localhost:8080/",
          "height": 35
        },
        "outputId": "fe5cae56-06ac-4200-dacc-8f89df8503e3"
      },
      "source": [
        "ensemble([\"कुछ ही देर में फैक्ट्री में आग की लपटों के साथ काले धुएं का गुबार उठता देखकर श्रमिकों में भगदड़ मच गई।\"])"
      ],
      "execution_count": null,
      "outputs": [
        {
          "output_type": "execute_result",
          "data": {
            "application/vnd.google.colaboratory.intrinsic+json": {
              "type": "string"
            },
            "text/plain": [
              "'negative'"
            ]
          },
          "metadata": {},
          "execution_count": 50
        }
      ]
    },
    {
      "cell_type": "code",
      "source": [
        "ensemble([\"मैं खुश हूँ\"])"
      ],
      "metadata": {
        "id": "xq7WRRn0hJ16",
        "colab": {
          "base_uri": "https://localhost:8080/",
          "height": 35
        },
        "outputId": "9dbdf695-15bc-45fb-807d-252f2eddc389"
      },
      "execution_count": null,
      "outputs": [
        {
          "output_type": "execute_result",
          "data": {
            "application/vnd.google.colaboratory.intrinsic+json": {
              "type": "string"
            },
            "text/plain": [
              "'positive'"
            ]
          },
          "metadata": {},
          "execution_count": 51
        }
      ]
    },
    {
      "cell_type": "code",
      "source": [
        "ensemble([\"RT @aajtak: दिल्ली: शाहदरा के पूर्व विधायक जितेन्द्र सिंह शंटी ने अदालत के फैसले का स्वागत किया है जिसमें कोर्ट ने कांग्रेस के सीनियर नेता…\"])"
      ],
      "metadata": {
        "id": "l_bJwOehktVT",
        "colab": {
          "base_uri": "https://localhost:8080/",
          "height": 35
        },
        "outputId": "e4fd23d9-f41c-4be8-b593-efbd1d3baa77"
      },
      "execution_count": null,
      "outputs": [
        {
          "output_type": "execute_result",
          "data": {
            "application/vnd.google.colaboratory.intrinsic+json": {
              "type": "string"
            },
            "text/plain": [
              "'neutral'"
            ]
          },
          "metadata": {},
          "execution_count": 52
        }
      ]
    }
  ]
}